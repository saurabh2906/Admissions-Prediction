{
 "cells": [
  {
   "cell_type": "markdown",
   "metadata": {},
   "source": [
    "## Class 4 29-09-2020"
   ]
  },
  {
   "cell_type": "code",
   "execution_count": 1,
   "metadata": {},
   "outputs": [],
   "source": [
    "# Supress Warnings\n",
    "from warnings import filterwarnings\n",
    "filterwarnings('ignore')"
   ]
  },
  {
   "cell_type": "code",
   "execution_count": 2,
   "metadata": {},
   "outputs": [],
   "source": [
    "# Importing libraries and changing os\n",
    "import pandas as pd\n",
    "import numpy as np\n",
    "import matplotlib.pyplot as plt\n",
    "import seaborn as sns\n",
    "import os\n",
    "#os.chdir(\"C:\\\\Users\\\\hp\\\\Desktop\\\\Module 6\\\\Machine Learning Algorithms\")\n",
    "os.chdir(\"C:\\\\Users\\\\INTEL\\\\Desktop\\\\Sravan\\\\Module 6\\\\Machine Learning Algorithms\")"
   ]
  },
  {
   "cell_type": "code",
   "execution_count": 3,
   "metadata": {},
   "outputs": [],
   "source": [
    "# Reading Dataset\n",
    "df = pd.read_csv('Admission_Predict.csv')"
   ]
  },
  {
   "cell_type": "code",
   "execution_count": 4,
   "metadata": {},
   "outputs": [
    {
     "data": {
      "text/html": [
       "<div>\n",
       "<style scoped>\n",
       "    .dataframe tbody tr th:only-of-type {\n",
       "        vertical-align: middle;\n",
       "    }\n",
       "\n",
       "    .dataframe tbody tr th {\n",
       "        vertical-align: top;\n",
       "    }\n",
       "\n",
       "    .dataframe thead th {\n",
       "        text-align: right;\n",
       "    }\n",
       "</style>\n",
       "<table border=\"1\" class=\"dataframe\">\n",
       "  <thead>\n",
       "    <tr style=\"text-align: right;\">\n",
       "      <th></th>\n",
       "      <th>Serial No.</th>\n",
       "      <th>GRE Score</th>\n",
       "      <th>TOEFL Score</th>\n",
       "      <th>University Rating</th>\n",
       "      <th>SOP</th>\n",
       "      <th>LOR</th>\n",
       "      <th>CGPA</th>\n",
       "      <th>Research</th>\n",
       "      <th>Chance of Admit</th>\n",
       "    </tr>\n",
       "  </thead>\n",
       "  <tbody>\n",
       "    <tr>\n",
       "      <th>0</th>\n",
       "      <td>1</td>\n",
       "      <td>337</td>\n",
       "      <td>118</td>\n",
       "      <td>4</td>\n",
       "      <td>4.5</td>\n",
       "      <td>4.5</td>\n",
       "      <td>9.65</td>\n",
       "      <td>1</td>\n",
       "      <td>1</td>\n",
       "    </tr>\n",
       "    <tr>\n",
       "      <th>1</th>\n",
       "      <td>2</td>\n",
       "      <td>324</td>\n",
       "      <td>107</td>\n",
       "      <td>4</td>\n",
       "      <td>4.0</td>\n",
       "      <td>4.5</td>\n",
       "      <td>8.87</td>\n",
       "      <td>1</td>\n",
       "      <td>1</td>\n",
       "    </tr>\n",
       "    <tr>\n",
       "      <th>2</th>\n",
       "      <td>3</td>\n",
       "      <td>316</td>\n",
       "      <td>104</td>\n",
       "      <td>3</td>\n",
       "      <td>3.0</td>\n",
       "      <td>3.5</td>\n",
       "      <td>8.00</td>\n",
       "      <td>1</td>\n",
       "      <td>0</td>\n",
       "    </tr>\n",
       "    <tr>\n",
       "      <th>3</th>\n",
       "      <td>4</td>\n",
       "      <td>322</td>\n",
       "      <td>110</td>\n",
       "      <td>3</td>\n",
       "      <td>3.5</td>\n",
       "      <td>2.5</td>\n",
       "      <td>8.67</td>\n",
       "      <td>1</td>\n",
       "      <td>1</td>\n",
       "    </tr>\n",
       "    <tr>\n",
       "      <th>4</th>\n",
       "      <td>5</td>\n",
       "      <td>314</td>\n",
       "      <td>103</td>\n",
       "      <td>2</td>\n",
       "      <td>2.0</td>\n",
       "      <td>3.0</td>\n",
       "      <td>8.21</td>\n",
       "      <td>0</td>\n",
       "      <td>0</td>\n",
       "    </tr>\n",
       "    <tr>\n",
       "      <th>...</th>\n",
       "      <td>...</td>\n",
       "      <td>...</td>\n",
       "      <td>...</td>\n",
       "      <td>...</td>\n",
       "      <td>...</td>\n",
       "      <td>...</td>\n",
       "      <td>...</td>\n",
       "      <td>...</td>\n",
       "      <td>...</td>\n",
       "    </tr>\n",
       "    <tr>\n",
       "      <th>395</th>\n",
       "      <td>396</td>\n",
       "      <td>324</td>\n",
       "      <td>110</td>\n",
       "      <td>3</td>\n",
       "      <td>3.5</td>\n",
       "      <td>3.5</td>\n",
       "      <td>9.04</td>\n",
       "      <td>1</td>\n",
       "      <td>1</td>\n",
       "    </tr>\n",
       "    <tr>\n",
       "      <th>396</th>\n",
       "      <td>397</td>\n",
       "      <td>325</td>\n",
       "      <td>107</td>\n",
       "      <td>3</td>\n",
       "      <td>3.0</td>\n",
       "      <td>3.5</td>\n",
       "      <td>9.11</td>\n",
       "      <td>1</td>\n",
       "      <td>1</td>\n",
       "    </tr>\n",
       "    <tr>\n",
       "      <th>397</th>\n",
       "      <td>398</td>\n",
       "      <td>330</td>\n",
       "      <td>116</td>\n",
       "      <td>4</td>\n",
       "      <td>5.0</td>\n",
       "      <td>4.5</td>\n",
       "      <td>9.45</td>\n",
       "      <td>1</td>\n",
       "      <td>1</td>\n",
       "    </tr>\n",
       "    <tr>\n",
       "      <th>398</th>\n",
       "      <td>399</td>\n",
       "      <td>312</td>\n",
       "      <td>103</td>\n",
       "      <td>3</td>\n",
       "      <td>3.5</td>\n",
       "      <td>4.0</td>\n",
       "      <td>8.78</td>\n",
       "      <td>0</td>\n",
       "      <td>0</td>\n",
       "    </tr>\n",
       "    <tr>\n",
       "      <th>399</th>\n",
       "      <td>400</td>\n",
       "      <td>333</td>\n",
       "      <td>117</td>\n",
       "      <td>4</td>\n",
       "      <td>5.0</td>\n",
       "      <td>4.0</td>\n",
       "      <td>9.66</td>\n",
       "      <td>1</td>\n",
       "      <td>1</td>\n",
       "    </tr>\n",
       "  </tbody>\n",
       "</table>\n",
       "<p>400 rows × 9 columns</p>\n",
       "</div>"
      ],
      "text/plain": [
       "     Serial No.  GRE Score  TOEFL Score  University Rating  SOP  LOR  CGPA  \\\n",
       "0             1        337          118                  4  4.5  4.5  9.65   \n",
       "1             2        324          107                  4  4.0  4.5  8.87   \n",
       "2             3        316          104                  3  3.0  3.5  8.00   \n",
       "3             4        322          110                  3  3.5  2.5  8.67   \n",
       "4             5        314          103                  2  2.0  3.0  8.21   \n",
       "..          ...        ...          ...                ...  ...  ...   ...   \n",
       "395         396        324          110                  3  3.5  3.5  9.04   \n",
       "396         397        325          107                  3  3.0  3.5  9.11   \n",
       "397         398        330          116                  4  5.0  4.5  9.45   \n",
       "398         399        312          103                  3  3.5  4.0  8.78   \n",
       "399         400        333          117                  4  5.0  4.0  9.66   \n",
       "\n",
       "     Research  Chance of Admit  \n",
       "0           1                1  \n",
       "1           1                1  \n",
       "2           1                0  \n",
       "3           1                1  \n",
       "4           0                0  \n",
       "..        ...              ...  \n",
       "395         1                1  \n",
       "396         1                1  \n",
       "397         1                1  \n",
       "398         0                0  \n",
       "399         1                1  \n",
       "\n",
       "[400 rows x 9 columns]"
      ]
     },
     "execution_count": 4,
     "metadata": {},
     "output_type": "execute_result"
    }
   ],
   "source": [
    "# Check if the data is correctly loaded\n",
    "df"
   ]
  },
  {
   "cell_type": "code",
   "execution_count": 5,
   "metadata": {},
   "outputs": [
    {
     "data": {
      "text/plain": [
       "Serial No.             int64\n",
       "GRE Score              int64\n",
       "TOEFL Score            int64\n",
       "University Rating      int64\n",
       "SOP                  float64\n",
       "LOR                  float64\n",
       "CGPA                 float64\n",
       "Research               int64\n",
       "Chance of Admit        int64\n",
       "dtype: object"
      ]
     },
     "execution_count": 5,
     "metadata": {},
     "output_type": "execute_result"
    }
   ],
   "source": [
    "# Check thr data types of the varaiable\n",
    "# dtypes is an attribute of a dataframe and not a function\n",
    "df.dtypes"
   ]
  },
  {
   "cell_type": "code",
   "execution_count": 6,
   "metadata": {},
   "outputs": [],
   "source": [
    "# Correct the datatype for research variable\n",
    "df['Research'] = df['Research'].astype('object')"
   ]
  },
  {
   "cell_type": "code",
   "execution_count": 7,
   "metadata": {},
   "outputs": [
    {
     "data": {
      "text/plain": [
       "Serial No.             int64\n",
       "GRE Score              int64\n",
       "TOEFL Score            int64\n",
       "University Rating      int64\n",
       "SOP                  float64\n",
       "LOR                  float64\n",
       "CGPA                 float64\n",
       "Research              object\n",
       "Chance of Admit        int64\n",
       "dtype: object"
      ]
     },
     "execution_count": 7,
     "metadata": {},
     "output_type": "execute_result"
    }
   ],
   "source": [
    "# check if the datatype for the research varaible has been changed\n",
    "df.dtypes"
   ]
  },
  {
   "cell_type": "code",
   "execution_count": 8,
   "metadata": {},
   "outputs": [
    {
     "data": {
      "text/plain": [
       "Serial No.           0\n",
       "GRE Score            0\n",
       "TOEFL Score          0\n",
       "University Rating    0\n",
       "SOP                  0\n",
       "LOR                  0\n",
       "CGPA                 0\n",
       "Research             0\n",
       "Chance of Admit      0\n",
       "dtype: int64"
      ]
     },
     "execution_count": 8,
     "metadata": {},
     "output_type": "execute_result"
    }
   ],
   "source": [
    "# Check missing values\n",
    "df.isnull().sum()"
   ]
  },
  {
   "cell_type": "code",
   "execution_count": 9,
   "metadata": {},
   "outputs": [],
   "source": [
    "# Drop unnecessary variables\n",
    "# axis =1 is to tell the drop() that look for 'Serial number' row wise\n",
    "# axis =0 is to tell the drop() that look for 'Serial number' column wise\n",
    "df = df.drop('Serial No.',axis =1)"
   ]
  },
  {
   "cell_type": "code",
   "execution_count": 10,
   "metadata": {},
   "outputs": [
    {
     "data": {
      "text/html": [
       "<div>\n",
       "<style scoped>\n",
       "    .dataframe tbody tr th:only-of-type {\n",
       "        vertical-align: middle;\n",
       "    }\n",
       "\n",
       "    .dataframe tbody tr th {\n",
       "        vertical-align: top;\n",
       "    }\n",
       "\n",
       "    .dataframe thead th {\n",
       "        text-align: right;\n",
       "    }\n",
       "</style>\n",
       "<table border=\"1\" class=\"dataframe\">\n",
       "  <thead>\n",
       "    <tr style=\"text-align: right;\">\n",
       "      <th></th>\n",
       "      <th>GRE Score</th>\n",
       "      <th>TOEFL Score</th>\n",
       "      <th>University Rating</th>\n",
       "      <th>SOP</th>\n",
       "      <th>LOR</th>\n",
       "      <th>CGPA</th>\n",
       "      <th>Research</th>\n",
       "      <th>Chance of Admit</th>\n",
       "    </tr>\n",
       "  </thead>\n",
       "  <tbody>\n",
       "    <tr>\n",
       "      <th>0</th>\n",
       "      <td>337</td>\n",
       "      <td>118</td>\n",
       "      <td>4</td>\n",
       "      <td>4.5</td>\n",
       "      <td>4.5</td>\n",
       "      <td>9.65</td>\n",
       "      <td>1</td>\n",
       "      <td>1</td>\n",
       "    </tr>\n",
       "    <tr>\n",
       "      <th>1</th>\n",
       "      <td>324</td>\n",
       "      <td>107</td>\n",
       "      <td>4</td>\n",
       "      <td>4.0</td>\n",
       "      <td>4.5</td>\n",
       "      <td>8.87</td>\n",
       "      <td>1</td>\n",
       "      <td>1</td>\n",
       "    </tr>\n",
       "    <tr>\n",
       "      <th>2</th>\n",
       "      <td>316</td>\n",
       "      <td>104</td>\n",
       "      <td>3</td>\n",
       "      <td>3.0</td>\n",
       "      <td>3.5</td>\n",
       "      <td>8.00</td>\n",
       "      <td>1</td>\n",
       "      <td>0</td>\n",
       "    </tr>\n",
       "    <tr>\n",
       "      <th>3</th>\n",
       "      <td>322</td>\n",
       "      <td>110</td>\n",
       "      <td>3</td>\n",
       "      <td>3.5</td>\n",
       "      <td>2.5</td>\n",
       "      <td>8.67</td>\n",
       "      <td>1</td>\n",
       "      <td>1</td>\n",
       "    </tr>\n",
       "    <tr>\n",
       "      <th>4</th>\n",
       "      <td>314</td>\n",
       "      <td>103</td>\n",
       "      <td>2</td>\n",
       "      <td>2.0</td>\n",
       "      <td>3.0</td>\n",
       "      <td>8.21</td>\n",
       "      <td>0</td>\n",
       "      <td>0</td>\n",
       "    </tr>\n",
       "  </tbody>\n",
       "</table>\n",
       "</div>"
      ],
      "text/plain": [
       "   GRE Score  TOEFL Score  University Rating  SOP  LOR  CGPA Research  \\\n",
       "0        337          118                  4  4.5  4.5  9.65        1   \n",
       "1        324          107                  4  4.0  4.5  8.87        1   \n",
       "2        316          104                  3  3.0  3.5  8.00        1   \n",
       "3        322          110                  3  3.5  2.5  8.67        1   \n",
       "4        314          103                  2  2.0  3.0  8.21        0   \n",
       "\n",
       "   Chance of Admit  \n",
       "0                1  \n",
       "1                1  \n",
       "2                0  \n",
       "3                1  \n",
       "4                0  "
      ]
     },
     "execution_count": 10,
     "metadata": {},
     "output_type": "execute_result"
    }
   ],
   "source": [
    "df.head()"
   ]
  },
  {
   "cell_type": "code",
   "execution_count": 11,
   "metadata": {},
   "outputs": [],
   "source": [
    "# We will set some global settings for the charts  for the notebook\n",
    "# we will use rcParams\n",
    "plt.rcParams['figure.figsize'] = [15,8]"
   ]
  },
  {
   "cell_type": "code",
   "execution_count": 12,
   "metadata": {},
   "outputs": [
    {
     "data": {
      "image/png": "[encoded data removed]",
      "text/plain": [
       "<Figure size 1080x576 with 9 Axes>"
      ]
     },
     "metadata": {
      "needs_background": "light"
     },
     "output_type": "display_data"
    }
   ],
   "source": [
    "# check the distribuion of each variable\n",
    "df.hist()\n",
    "# remove unwanted details\n",
    "plt.show()"
   ]
  },
  {
   "cell_type": "code",
   "execution_count": 13,
   "metadata": {},
   "outputs": [
    {
     "data": {
      "image/png": "[encoded data removed]",
      "text/plain": [
       "<Figure size 1080x576 with 6 Axes>"
      ]
     },
     "metadata": {
      "needs_background": "light"
     },
     "output_type": "display_data"
    }
   ],
   "source": [
    "# To remove unwanted histograms\n",
    "# To remove Chance of admit\n",
    "df.drop('Chance of Admit',axis=1).hist()\n",
    "plt.show()"
   ]
  },
  {
   "cell_type": "markdown",
   "metadata": {},
   "source": [
    "* The data for each of the variables is more or what normally distributed\n",
    "* the data is not more skewed\n",
    "* the most of the data is bell curved\n",
    "* The data is good"
   ]
  },
  {
   "cell_type": "code",
   "execution_count": 14,
   "metadata": {},
   "outputs": [
    {
     "data": {
      "image/png": "[encoded data removed]",
      "text/plain": [
       "<Figure size 1080x576 with 1 Axes>"
      ]
     },
     "metadata": {
      "needs_background": "light"
     },
     "output_type": "display_data"
    }
   ],
   "source": [
    "# Lets study the distribution of categorical variables\n",
    "sns.countplot(df[\"Research\"])\n",
    "#plt.show()\n",
    "# Seaborn library is built on top of Matplotlib\n",
    "# Seaborn internally uses matplotlib\n",
    "\n",
    "plt.title(\"Distribution of Research variable\",fontsize=15)\n",
    "plt.xlabel('Research',fontsize=15)\n",
    "plt.ylabel('Count',fontsize=15)\n",
    "plt.show()"
   ]
  },
  {
   "cell_type": "markdown",
   "metadata": {},
   "source": [
    "* For a numeric variable data is skewed, for a categorical data you will say that the data is imbalanced"
   ]
  },
  {
   "cell_type": "code",
   "execution_count": 15,
   "metadata": {},
   "outputs": [
    {
     "name": "stdout",
     "output_type": "stream",
     "text": [
      "0.5475\n",
      "0.4525\n"
     ]
    }
   ],
   "source": [
    "df['Research'].value_counts()\n",
    "print(219/400)\n",
    "print(181/400)"
   ]
  },
  {
   "cell_type": "markdown",
   "metadata": {},
   "source": [
    "* The data is quite balanced\n",
    "* In scenarios like 90%-10% or 80%-20%, Then we might consider data is imbalnced"
   ]
  },
  {
   "cell_type": "code",
   "execution_count": 16,
   "metadata": {},
   "outputs": [
    {
     "data": {
      "image/png": "[encoded data removed]",
      "text/plain": [
       "<Figure size 1080x576 with 1 Axes>"
      ]
     },
     "metadata": {
      "needs_background": "light"
     },
     "output_type": "display_data"
    }
   ],
   "source": [
    "# Lets see the distribution of our target variable\n",
    "# Lets study the distribution of categorical variables\n",
    "sns.countplot(df[\"Chance of Admit\"])\n",
    "#plt.show()\n",
    "# Seaborn library is built on top of Matplotlib\n",
    "# Seaborn internally uses matplotlib\n",
    "\n",
    "plt.title(\"Distribution of Chance of Admit\",fontsize=15)\n",
    "plt.xlabel('Chance of Admit',fontsize=15)\n",
    "plt.ylabel('Count',fontsize=15)\n",
    "plt.show()"
   ]
  },
  {
   "cell_type": "markdown",
   "metadata": {},
   "source": [
    " Scaling is done for numeric variables\n",
    " \n",
    "Normalization  ( Min-Max Scaling)\n",
    "\n",
    "Characteristic of the transformed Data:\n",
    "* The scaled data will be alwats between 0 & 1\n",
    "\n",
    "\n",
    "\n",
    "Standardization ( Standardization/ (z-score scaling))\n",
    "\n",
    "Characteristic of the transformed Data:\n",
    "* The scaled data willhave a mean of 0 and std.dev of 1\n"
   ]
  },
  {
   "cell_type": "code",
   "execution_count": 17,
   "metadata": {},
   "outputs": [],
   "source": [
    "# 1. We will seperate out target variablles and features variables\n",
    "# 2. we take the feature variables and seperate the numeric & categorical variables from the feature set\n",
    "# 3. We will perform encoding on categorical variable\n",
    "# 4. We will scale our numeric varaivbles\n",
    "# 5. We will concatenate the c=scaled numeric and encoded categorical variables"
   ]
  },
  {
   "cell_type": "code",
   "execution_count": 18,
   "metadata": {},
   "outputs": [],
   "source": [
    "# 1. We will seperate out target variablles and features variables\n",
    "df_target = df['Chance of Admit']\n",
    "df_features = df.drop('Chance of Admit',axis=1)"
   ]
  },
  {
   "cell_type": "code",
   "execution_count": 19,
   "metadata": {},
   "outputs": [
    {
     "data": {
      "text/html": [
       "<div>\n",
       "<style scoped>\n",
       "    .dataframe tbody tr th:only-of-type {\n",
       "        vertical-align: middle;\n",
       "    }\n",
       "\n",
       "    .dataframe tbody tr th {\n",
       "        vertical-align: top;\n",
       "    }\n",
       "\n",
       "    .dataframe thead th {\n",
       "        text-align: right;\n",
       "    }\n",
       "</style>\n",
       "<table border=\"1\" class=\"dataframe\">\n",
       "  <thead>\n",
       "    <tr style=\"text-align: right;\">\n",
       "      <th></th>\n",
       "      <th>GRE Score</th>\n",
       "      <th>TOEFL Score</th>\n",
       "      <th>University Rating</th>\n",
       "      <th>SOP</th>\n",
       "      <th>LOR</th>\n",
       "      <th>CGPA</th>\n",
       "      <th>Research</th>\n",
       "    </tr>\n",
       "  </thead>\n",
       "  <tbody>\n",
       "    <tr>\n",
       "      <th>0</th>\n",
       "      <td>337</td>\n",
       "      <td>118</td>\n",
       "      <td>4</td>\n",
       "      <td>4.5</td>\n",
       "      <td>4.5</td>\n",
       "      <td>9.65</td>\n",
       "      <td>1</td>\n",
       "    </tr>\n",
       "    <tr>\n",
       "      <th>1</th>\n",
       "      <td>324</td>\n",
       "      <td>107</td>\n",
       "      <td>4</td>\n",
       "      <td>4.0</td>\n",
       "      <td>4.5</td>\n",
       "      <td>8.87</td>\n",
       "      <td>1</td>\n",
       "    </tr>\n",
       "    <tr>\n",
       "      <th>2</th>\n",
       "      <td>316</td>\n",
       "      <td>104</td>\n",
       "      <td>3</td>\n",
       "      <td>3.0</td>\n",
       "      <td>3.5</td>\n",
       "      <td>8.00</td>\n",
       "      <td>1</td>\n",
       "    </tr>\n",
       "    <tr>\n",
       "      <th>3</th>\n",
       "      <td>322</td>\n",
       "      <td>110</td>\n",
       "      <td>3</td>\n",
       "      <td>3.5</td>\n",
       "      <td>2.5</td>\n",
       "      <td>8.67</td>\n",
       "      <td>1</td>\n",
       "    </tr>\n",
       "    <tr>\n",
       "      <th>4</th>\n",
       "      <td>314</td>\n",
       "      <td>103</td>\n",
       "      <td>2</td>\n",
       "      <td>2.0</td>\n",
       "      <td>3.0</td>\n",
       "      <td>8.21</td>\n",
       "      <td>0</td>\n",
       "    </tr>\n",
       "  </tbody>\n",
       "</table>\n",
       "</div>"
      ],
      "text/plain": [
       "   GRE Score  TOEFL Score  University Rating  SOP  LOR  CGPA Research\n",
       "0        337          118                  4  4.5  4.5  9.65        1\n",
       "1        324          107                  4  4.0  4.5  8.87        1\n",
       "2        316          104                  3  3.0  3.5  8.00        1\n",
       "3        322          110                  3  3.5  2.5  8.67        1\n",
       "4        314          103                  2  2.0  3.0  8.21        0"
      ]
     },
     "execution_count": 19,
     "metadata": {},
     "output_type": "execute_result"
    }
   ],
   "source": [
    "df_features.head()"
   ]
  },
  {
   "cell_type": "code",
   "execution_count": 20,
   "metadata": {},
   "outputs": [],
   "source": [
    "# 2. we take the feature variables and seperate the numeric & categorical variables from the feature set\n",
    "df_numeric =df_features.select_dtypes(include=[np.number])\n",
    "df_categorical = df_features.select_dtypes(include=[np.object])"
   ]
  },
  {
   "cell_type": "code",
   "execution_count": 21,
   "metadata": {},
   "outputs": [
    {
     "data": {
      "text/plain": [
       "GRE Score              int64\n",
       "TOEFL Score            int64\n",
       "University Rating      int64\n",
       "SOP                  float64\n",
       "LOR                  float64\n",
       "CGPA                 float64\n",
       "dtype: object"
      ]
     },
     "execution_count": 21,
     "metadata": {},
     "output_type": "execute_result"
    }
   ],
   "source": [
    "df_numeric.dtypes"
   ]
  },
  {
   "cell_type": "code",
   "execution_count": 22,
   "metadata": {},
   "outputs": [
    {
     "data": {
      "text/plain": [
       "Research    object\n",
       "dtype: object"
      ]
     },
     "execution_count": 22,
     "metadata": {},
     "output_type": "execute_result"
    }
   ],
   "source": [
    "df_categorical.dtypes"
   ]
  },
  {
   "cell_type": "code",
   "execution_count": 23,
   "metadata": {},
   "outputs": [],
   "source": [
    "# 3. We will perform encoding on categorical variable\n",
    "# get_dummies() is the function that encodes the variable,\n",
    "#  if we use drop_first = True it will give n-1 dummy encoding\n",
    "#  if we use drop_first = False it will one-hot encoding\n",
    "df_encoded = pd.get_dummies(df_categorical,drop_first = True) # N-1 encoding drop_first = False for one-hot"
   ]
  },
  {
   "cell_type": "code",
   "execution_count": 24,
   "metadata": {},
   "outputs": [
    {
     "data": {
      "text/html": [
       "<div>\n",
       "<style scoped>\n",
       "    .dataframe tbody tr th:only-of-type {\n",
       "        vertical-align: middle;\n",
       "    }\n",
       "\n",
       "    .dataframe tbody tr th {\n",
       "        vertical-align: top;\n",
       "    }\n",
       "\n",
       "    .dataframe thead th {\n",
       "        text-align: right;\n",
       "    }\n",
       "</style>\n",
       "<table border=\"1\" class=\"dataframe\">\n",
       "  <thead>\n",
       "    <tr style=\"text-align: right;\">\n",
       "      <th></th>\n",
       "      <th>Research_1</th>\n",
       "    </tr>\n",
       "  </thead>\n",
       "  <tbody>\n",
       "    <tr>\n",
       "      <th>0</th>\n",
       "      <td>1</td>\n",
       "    </tr>\n",
       "    <tr>\n",
       "      <th>1</th>\n",
       "      <td>1</td>\n",
       "    </tr>\n",
       "    <tr>\n",
       "      <th>2</th>\n",
       "      <td>1</td>\n",
       "    </tr>\n",
       "    <tr>\n",
       "      <th>3</th>\n",
       "      <td>1</td>\n",
       "    </tr>\n",
       "    <tr>\n",
       "      <th>4</th>\n",
       "      <td>0</td>\n",
       "    </tr>\n",
       "  </tbody>\n",
       "</table>\n",
       "</div>"
      ],
      "text/plain": [
       "   Research_1\n",
       "0           1\n",
       "1           1\n",
       "2           1\n",
       "3           1\n",
       "4           0"
      ]
     },
     "execution_count": 24,
     "metadata": {},
     "output_type": "execute_result"
    }
   ],
   "source": [
    "df_encoded.head()"
   ]
  },
  {
   "cell_type": "code",
   "execution_count": 39,
   "metadata": {},
   "outputs": [
    {
     "name": "stdout",
     "output_type": "stream",
     "text": [
      "<class 'numpy.ndarray'>\n",
      "\n",
      "\n",
      "[[ 1.76210664  1.74697064  0.79882862  1.09386422  1.16732114  1.76481828]\n",
      " [ 0.62765641 -0.06763531  0.79882862  0.59665321  1.16732114  0.45515126]\n",
      " [-0.07046681 -0.56252785 -0.07660001 -0.39776881  0.05293342 -1.00563118]\n",
      " ...\n",
      " [ 1.15124883  1.41704229  0.79882862  1.59107523  1.16732114  1.42900622]\n",
      " [-0.41952842 -0.72749202 -0.07660001  0.0994422   0.61012728  0.30403584]\n",
      " [ 1.41304503  1.58200646  0.79882862  1.59107523  0.61012728  1.78160888]]\n"
     ]
    }
   ],
   "source": [
    "# 4. We will scale our numeric varaibles\n",
    "from sklearn.preprocessing import StandardScaler # Z-Score standardization\n",
    "# StandarScaler is a function that scales data with Z-score standardization\n",
    "# Initialize the standardizescaler\n",
    "X_scaler = StandardScaler()\n",
    "\n",
    "df_scaled = X_scaler.fit_transform(df_numeric)\n",
    "\n",
    "print(type(df_scaled))\n",
    "print('\\n') # give a blank line\n",
    "print(df_scaled)\n",
    "\n",
    "\n",
    "# what is module used for scaling data\n",
    "# Ans preprocessing"
   ]
  },
  {
   "cell_type": "code",
   "execution_count": 40,
   "metadata": {},
   "outputs": [],
   "source": [
    "df_scaled_df = pd.DataFrame(df_scaled,columns = df_numeric.columns)"
   ]
  },
  {
   "cell_type": "code",
   "execution_count": 41,
   "metadata": {},
   "outputs": [
    {
     "data": {
      "text/html": [
       "<div>\n",
       "<style scoped>\n",
       "    .dataframe tbody tr th:only-of-type {\n",
       "        vertical-align: middle;\n",
       "    }\n",
       "\n",
       "    .dataframe tbody tr th {\n",
       "        vertical-align: top;\n",
       "    }\n",
       "\n",
       "    .dataframe thead th {\n",
       "        text-align: right;\n",
       "    }\n",
       "</style>\n",
       "<table border=\"1\" class=\"dataframe\">\n",
       "  <thead>\n",
       "    <tr style=\"text-align: right;\">\n",
       "      <th></th>\n",
       "      <th>GRE Score</th>\n",
       "      <th>TOEFL Score</th>\n",
       "      <th>University Rating</th>\n",
       "      <th>SOP</th>\n",
       "      <th>LOR</th>\n",
       "      <th>CGPA</th>\n",
       "    </tr>\n",
       "  </thead>\n",
       "  <tbody>\n",
       "    <tr>\n",
       "      <th>0</th>\n",
       "      <td>1.762107</td>\n",
       "      <td>1.746971</td>\n",
       "      <td>0.798829</td>\n",
       "      <td>1.093864</td>\n",
       "      <td>1.167321</td>\n",
       "      <td>1.764818</td>\n",
       "    </tr>\n",
       "    <tr>\n",
       "      <th>1</th>\n",
       "      <td>0.627656</td>\n",
       "      <td>-0.067635</td>\n",
       "      <td>0.798829</td>\n",
       "      <td>0.596653</td>\n",
       "      <td>1.167321</td>\n",
       "      <td>0.455151</td>\n",
       "    </tr>\n",
       "    <tr>\n",
       "      <th>2</th>\n",
       "      <td>-0.070467</td>\n",
       "      <td>-0.562528</td>\n",
       "      <td>-0.076600</td>\n",
       "      <td>-0.397769</td>\n",
       "      <td>0.052933</td>\n",
       "      <td>-1.005631</td>\n",
       "    </tr>\n",
       "    <tr>\n",
       "      <th>3</th>\n",
       "      <td>0.453126</td>\n",
       "      <td>0.427257</td>\n",
       "      <td>-0.076600</td>\n",
       "      <td>0.099442</td>\n",
       "      <td>-1.061454</td>\n",
       "      <td>0.119339</td>\n",
       "    </tr>\n",
       "    <tr>\n",
       "      <th>4</th>\n",
       "      <td>-0.244998</td>\n",
       "      <td>-0.727492</td>\n",
       "      <td>-0.952029</td>\n",
       "      <td>-1.392191</td>\n",
       "      <td>-0.504260</td>\n",
       "      <td>-0.653029</td>\n",
       "    </tr>\n",
       "  </tbody>\n",
       "</table>\n",
       "</div>"
      ],
      "text/plain": [
       "   GRE Score  TOEFL Score  University Rating       SOP       LOR      CGPA\n",
       "0   1.762107     1.746971           0.798829  1.093864  1.167321  1.764818\n",
       "1   0.627656    -0.067635           0.798829  0.596653  1.167321  0.455151\n",
       "2  -0.070467    -0.562528          -0.076600 -0.397769  0.052933 -1.005631\n",
       "3   0.453126     0.427257          -0.076600  0.099442 -1.061454  0.119339\n",
       "4  -0.244998    -0.727492          -0.952029 -1.392191 -0.504260 -0.653029"
      ]
     },
     "execution_count": 41,
     "metadata": {},
     "output_type": "execute_result"
    }
   ],
   "source": [
    "df_scaled_df.head()"
   ]
  },
  {
   "cell_type": "code",
   "execution_count": 42,
   "metadata": {},
   "outputs": [],
   "source": [
    "# 5. We will concatenate the scaled numeric and encoded categorical variables\n",
    "df_merge = pd.concat([df_scaled_df,df_encoded],axis=1)"
   ]
  },
  {
   "cell_type": "code",
   "execution_count": 43,
   "metadata": {},
   "outputs": [
    {
     "data": {
      "text/html": [
       "<div>\n",
       "<style scoped>\n",
       "    .dataframe tbody tr th:only-of-type {\n",
       "        vertical-align: middle;\n",
       "    }\n",
       "\n",
       "    .dataframe tbody tr th {\n",
       "        vertical-align: top;\n",
       "    }\n",
       "\n",
       "    .dataframe thead th {\n",
       "        text-align: right;\n",
       "    }\n",
       "</style>\n",
       "<table border=\"1\" class=\"dataframe\">\n",
       "  <thead>\n",
       "    <tr style=\"text-align: right;\">\n",
       "      <th></th>\n",
       "      <th>GRE Score</th>\n",
       "      <th>TOEFL Score</th>\n",
       "      <th>University Rating</th>\n",
       "      <th>SOP</th>\n",
       "      <th>LOR</th>\n",
       "      <th>CGPA</th>\n",
       "      <th>Research_1</th>\n",
       "    </tr>\n",
       "  </thead>\n",
       "  <tbody>\n",
       "    <tr>\n",
       "      <th>0</th>\n",
       "      <td>1.762107</td>\n",
       "      <td>1.746971</td>\n",
       "      <td>0.798829</td>\n",
       "      <td>1.093864</td>\n",
       "      <td>1.167321</td>\n",
       "      <td>1.764818</td>\n",
       "      <td>1</td>\n",
       "    </tr>\n",
       "    <tr>\n",
       "      <th>1</th>\n",
       "      <td>0.627656</td>\n",
       "      <td>-0.067635</td>\n",
       "      <td>0.798829</td>\n",
       "      <td>0.596653</td>\n",
       "      <td>1.167321</td>\n",
       "      <td>0.455151</td>\n",
       "      <td>1</td>\n",
       "    </tr>\n",
       "    <tr>\n",
       "      <th>2</th>\n",
       "      <td>-0.070467</td>\n",
       "      <td>-0.562528</td>\n",
       "      <td>-0.076600</td>\n",
       "      <td>-0.397769</td>\n",
       "      <td>0.052933</td>\n",
       "      <td>-1.005631</td>\n",
       "      <td>1</td>\n",
       "    </tr>\n",
       "    <tr>\n",
       "      <th>3</th>\n",
       "      <td>0.453126</td>\n",
       "      <td>0.427257</td>\n",
       "      <td>-0.076600</td>\n",
       "      <td>0.099442</td>\n",
       "      <td>-1.061454</td>\n",
       "      <td>0.119339</td>\n",
       "      <td>1</td>\n",
       "    </tr>\n",
       "    <tr>\n",
       "      <th>4</th>\n",
       "      <td>-0.244998</td>\n",
       "      <td>-0.727492</td>\n",
       "      <td>-0.952029</td>\n",
       "      <td>-1.392191</td>\n",
       "      <td>-0.504260</td>\n",
       "      <td>-0.653029</td>\n",
       "      <td>0</td>\n",
       "    </tr>\n",
       "  </tbody>\n",
       "</table>\n",
       "</div>"
      ],
      "text/plain": [
       "   GRE Score  TOEFL Score  University Rating       SOP       LOR      CGPA  \\\n",
       "0   1.762107     1.746971           0.798829  1.093864  1.167321  1.764818   \n",
       "1   0.627656    -0.067635           0.798829  0.596653  1.167321  0.455151   \n",
       "2  -0.070467    -0.562528          -0.076600 -0.397769  0.052933 -1.005631   \n",
       "3   0.453126     0.427257          -0.076600  0.099442 -1.061454  0.119339   \n",
       "4  -0.244998    -0.727492          -0.952029 -1.392191 -0.504260 -0.653029   \n",
       "\n",
       "   Research_1  \n",
       "0           1  \n",
       "1           1  \n",
       "2           1  \n",
       "3           1  \n",
       "4           0  "
      ]
     },
     "execution_count": 43,
     "metadata": {},
     "output_type": "execute_result"
    }
   ],
   "source": [
    "df_merge.head()"
   ]
  },
  {
   "cell_type": "code",
   "execution_count": 44,
   "metadata": {},
   "outputs": [],
   "source": [
    "# We will have to split the data into train & test data\n",
    "from sklearn.model_selection import train_test_split\n",
    "import statsmodels\n",
    "import statsmodels.api as sm\n",
    "df_merge = sm.add_constant(df_merge)\n",
    "X_train,X_test,y_train,y_test = train_test_split(df_merge,df_target,random_state=123,test_size=0.2)\n",
    "\n",
    "# what is module used for train_test_split\n",
    "# Ans model_selection"
   ]
  },
  {
   "cell_type": "code",
   "execution_count": 45,
   "metadata": {},
   "outputs": [
    {
     "name": "stdout",
     "output_type": "stream",
     "text": [
      "the shape of X_train is:  (320, 7)\n",
      "the shape of X_test is:  (80, 7)\n",
      "the shape of y_train is:  (320,)\n",
      "the shape of y_test is:  (80,)\n"
     ]
    }
   ],
   "source": [
    "print(\"the shape of X_train is: \",X_train.shape)\n",
    "\n",
    "# print dimensions of predictors test set\n",
    "print(\"the shape of X_test is: \",X_test.shape)\n",
    "\n",
    "# print dimensions of target train set\n",
    "print(\"the shape of y_train is: \",y_train.shape)\n",
    "\n",
    "# print dimensions of target test set\n",
    "print(\"the shape of y_test is: \",y_test.shape)"
   ]
  },
  {
   "cell_type": "code",
   "execution_count": 46,
   "metadata": {},
   "outputs": [
    {
     "data": {
      "text/plain": [
       "178    0\n",
       "252    0\n",
       "6      1\n",
       "274    0\n",
       "125    0\n",
       "Name: Chance of Admit, dtype: int64"
      ]
     },
     "execution_count": 46,
     "metadata": {},
     "output_type": "execute_result"
    }
   ],
   "source": [
    "y_train.head()"
   ]
  },
  {
   "cell_type": "markdown",
   "metadata": {},
   "source": [
    "## Class-5 30-09-2020"
   ]
  },
  {
   "cell_type": "code",
   "execution_count": null,
   "metadata": {},
   "outputs": [],
   "source": []
  }
 ],
 "metadata": {
  "kernelspec": {
   "display_name": "Python 3",
   "language": "python",
   "name": "python3"
  },
  "language_info": {
   "codemirror_mode": {
    "name": "ipython",
    "version": 3
   },
   "file_extension": ".py",
   "mimetype": "text/x-python",
   "name": "python",
   "nbconvert_exporter": "python",
   "pygments_lexer": "ipython3",
   "version": "3.8.3"
  }
 },
 "nbformat": 4,
 "nbformat_minor": 4
}
